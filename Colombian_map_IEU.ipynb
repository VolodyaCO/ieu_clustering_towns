{
 "cells": [
  {
   "cell_type": "code",
   "execution_count": 1,
   "metadata": {},
   "outputs": [
    {
     "data": {
      "text/plain": [
       "'CLUSTER REPRESENTATION ON THE MAP OF COLOMBIA\\n   \\n   Name:     Leonel Ardila\\n   e-mail:   lfardilap@unal.edu.co\\n   github:   leonelardilap\\n   Project:  IEU support '"
      ]
     },
     "execution_count": 1,
     "metadata": {},
     "output_type": "execute_result"
    }
   ],
   "source": [
    "'''CLUSTER REPRESENTATION ON THE MAP OF COLOMBIA\n",
    "   \n",
    "   Name:     Leonel Ardila\n",
    "   e-mail:   lfardilap@unal.edu.co\n",
    "   github:   leonelardilap\n",
    "   Project:  IEU support '''\n",
    "\n",
    "# New packages that must be installed\n",
    "# pip install folium\n",
    "# pip install geopy"
   ]
  },
  {
   "cell_type": "code",
   "execution_count": 55,
   "metadata": {},
   "outputs": [
    {
     "name": "stdout",
     "output_type": "stream",
     "text": [
      "'Norosí (1)' Norosí (1)\n",
      "'Guachené (1) ' Guachené (1) \n",
      "'San José de Uré(1)' San José de Uré(1)\n",
      "'Tuchín (1)' Tuchín (1)\n",
      "'Fusagasugá' Fusagasugá\n",
      "'Villavicencio' Villavicencio\n",
      "'El Pl-73.5399330272795ayón' El Pl-73.5399330272795ayón\n",
      "'La Victoria (ANM)' La Victoria (ANM)\n"
     ]
    }
   ],
   "source": [
    "import numpy as np\n",
    "import pandas as pd\n",
    "import folium\n",
    "#from geopy.geocoders import Nominatim\n",
    "\n",
    "colors = {4: '#3481f5', 5: '#cbfa0f', 0: '#0cf86b', 2: '#ca0bf9',\n",
    "          3: '#2424f4', 1: '#0cfccc'}\n",
    "\n",
    "m = folium.Map(\n",
    "    #COLOMBIA\n",
    "    location=[2.8894434, -73.783892],\n",
    "    zoom_start=5.0\n",
    ")\n",
    "df = pd.read_excel('Areas y población Mun_COL 2005_2017.xlsx').iloc[:-1,:]\n",
    "data = pd.read_csv('output.csv')\n",
    "data_lb = pd.read_csv('labels.csv', header=None)\n",
    "\n",
    "labels = dict(data_lb.values)\n",
    "\n",
    "sizes = df['POBLACIÓN TOTAL 2017'].values\n",
    "reduced = sizes**(1/7)\n",
    "\n",
    "for place in data.values:\n",
    "    try:\n",
    "        loc         = place[1:]\n",
    "        name        = place[0]\n",
    "        label_color = colors[labels[name]]\n",
    "        size = df[df['MPIO'].apply(lambda x: x.replace(',',\"\"))==name]['POBLACIÓN TOTAL 2017'].values[0]\n",
    "        assert size\n",
    "        marker_size = np.log((size-min(reduced))**2+1)**3/1024\n",
    "        \n",
    "        folium.CircleMarker(\n",
    "            location   = loc, #Latitude and longitude\n",
    "            radius     = marker_size,\n",
    "            popup      = name,  #Municipallity name\n",
    "            color      = label_color,\n",
    "            fill       = True,\n",
    "            fill_color = label_color,\n",
    "            fill_opacity = 0.65\n",
    "        ).add_to(m)\n",
    "    except Exception as e:\n",
    "        print(e, name)\n",
    "        pass\n",
    "m.save(outfile= \"map.html\")"
   ]
  },
  {
   "cell_type": "code",
   "execution_count": 47,
   "metadata": {},
   "outputs": [],
   "source": [
    "size = df['POBLACIÓN TOTAL 2017'].values"
   ]
  },
  {
   "cell_type": "code",
   "execution_count": 49,
   "metadata": {},
   "outputs": [
    {
     "data": {
      "image/png": "[encoded data removed]",
      "text/plain": [
       "<Figure size 432x288 with 1 Axes>"
      ]
     },
     "metadata": {
      "needs_background": "light"
     },
     "output_type": "display_data"
    }
   ],
   "source": [
    "import matplotlib.pyplot as plt\n",
    "reduced = size**(1/7)\n",
    "plt.hist(np.log((reduced-min(reduced))**2+1)**3/4, bins=50)\n",
    "plt.show()"
   ]
  },
  {
   "cell_type": "code",
   "execution_count": null,
   "metadata": {},
   "outputs": [],
   "source": []
  }
 ],
 "metadata": {
  "kernelspec": {
   "display_name": "Python 3",
   "language": "python",
   "name": "python3"
  },
  "language_info": {
   "codemirror_mode": {
    "name": "ipython",
    "version": 3
   },
   "file_extension": ".py",
   "mimetype": "text/x-python",
   "name": "python",
   "nbconvert_exporter": "python",
   "pygments_lexer": "ipython3",
   "version": "3.7.3"
  }
 },
 "nbformat": 4,
 "nbformat_minor": 4
}
