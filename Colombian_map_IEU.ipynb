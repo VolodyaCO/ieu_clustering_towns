{
 "cells": [
  {
   "cell_type": "code",
   "execution_count": 1,
   "metadata": {},
   "outputs": [
    {
     "data": {
      "text/plain": [
       "'CLUSTER REPRESENTATION ON THE MAP OF COLOMBIA\\n   \\n   Name:     Leonel Ardila\\n   e-mail:   lfardilap@unal.edu.co\\n   github:   leonelardilap\\n   Project:  IEU support '"
      ]
     },
     "execution_count": 1,
     "metadata": {},
     "output_type": "execute_result"
    }
   ],
   "source": [
    "'''CLUSTER REPRESENTATION ON THE MAP OF COLOMBIA\n",
    "   \n",
    "   Name:     Leonel Ardila\n",
    "   e-mail:   lfardilap@unal.edu.co\n",
    "   github:   leonelardilap\n",
    "   Project:  IEU support '''\n",
    "\n",
    "# New packages that must be installed\n",
    "# pip install folium\n",
    "# pip install geopy"
   ]
  },
  {
   "cell_type": "code",
   "execution_count": 3,
   "metadata": {},
   "outputs": [
    {
     "name": "stdout",
     "output_type": "stream",
     "text": [
      "'Norosí (1)'\n",
      "'Guachené (1) '\n",
      "'San José de Uré(1)'\n",
      "'Tuchín (1)'\n",
      "'Fusagasugá'\n",
      "'Villavicencio'\n",
      "'El Pl-73.5399330272795ayón'\n",
      "'La Victoria (ANM)'\n"
     ]
    }
   ],
   "source": [
    "import numpy as np\n",
    "import pandas as pd\n",
    "import folium\n",
    "#from geopy.geocoders import Nominatim\n",
    "\n",
    "colors = {0:'red', 1:'blue', 2:'green', 3:'yellow', 4:'black', 5:'purple'}\n",
    "\n",
    "m = folium.Map(\n",
    "    #COLOMBIA\n",
    "    location=[2.8894434, -73.783892],\n",
    "    zoom_start=5.0\n",
    ")\n",
    "df = pd.read_excel('Areas y población Mun_COL 2005_2017.xlsx').iloc[:-1,:]\n",
    "data = pd.read_csv('output.csv')\n",
    "data_lb = pd.read_csv('labels.csv')\n",
    "\n",
    "labels = dict(data_lb.values)\n",
    "\n",
    "for place in data.values:\n",
    "    try:\n",
    "        loc         = place[1:]\n",
    "        name        = place[0]\n",
    "        label_color = colors[labels[name]]\n",
    "        size = df[df['MPIO']==name]['POBLACIÓN TOTAL 2017'].values[0]\n",
    "        assert size\n",
    "        marker_size = ((size**(1/20)-1)**4+2.2)**2.4\n",
    "        \n",
    "        folium.CircleMarker(\n",
    "            location   = loc, #Latitude and longitude\n",
    "            radius     = marker_size,\n",
    "            popup      = name,  #Municipallity name\n",
    "            color      = label_color,\n",
    "            fill       = True,\n",
    "            fill_color = label_color\n",
    "        ).add_to(m)\n",
    "    except Exception as e:\n",
    "        print(e)\n",
    "        pass\n",
    "m.save(outfile= \"map.html\")"
   ]
  },
  {
   "cell_type": "code",
   "execution_count": null,
   "metadata": {},
   "outputs": [],
   "source": []
  }
 ],
 "metadata": {
  "kernelspec": {
   "display_name": "Python 3",
   "language": "python",
   "name": "python3"
  },
  "language_info": {
   "codemirror_mode": {
    "name": "ipython",
    "version": 3
   },
   "file_extension": ".py",
   "mimetype": "text/x-python",
   "name": "python",
   "nbconvert_exporter": "python",
   "pygments_lexer": "ipython3",
   "version": "3.7.3"
  }
 },
 "nbformat": 4,
 "nbformat_minor": 4
}
