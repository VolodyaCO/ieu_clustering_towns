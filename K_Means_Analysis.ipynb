{
 "cells": [
  {
   "cell_type": "code",
   "execution_count": 1,
   "metadata": {},
   "outputs": [],
   "source": [
    "#import umap\n",
    "import numpy as np\n",
    "import pandas as pd\n",
    "from sklearn.preprocessing import StandardScaler\n",
    "import matplotlib.pyplot as plt\n",
    "from collections import Counter\n",
    "import random\n",
    "import colorsys"
   ]
  },
  {
   "cell_type": "markdown",
   "metadata": {},
   "source": [
    "### Import the data and load it in a dataframe of pandas "
   ]
  },
  {
   "cell_type": "code",
   "execution_count": 2,
   "metadata": {},
   "outputs": [],
   "source": [
    "df = pd.read_excel('Areas y población Mun_COL 2005_2017.xlsx').iloc[:-1,:]"
   ]
  },
  {
   "cell_type": "code",
   "execution_count": 3,
   "metadata": {},
   "outputs": [
    {
     "data": {
      "text/html": [
       "<div>\n",
       "<style scoped>\n",
       "    .dataframe tbody tr th:only-of-type {\n",
       "        vertical-align: middle;\n",
       "    }\n",
       "\n",
       "    .dataframe tbody tr th {\n",
       "        vertical-align: top;\n",
       "    }\n",
       "\n",
       "    .dataframe thead th {\n",
       "        text-align: right;\n",
       "    }\n",
       "</style>\n",
       "<table border=\"1\" class=\"dataframe\">\n",
       "  <thead>\n",
       "    <tr style=\"text-align: right;\">\n",
       "      <th></th>\n",
       "      <th>DP</th>\n",
       "      <th>DPNOM</th>\n",
       "      <th>DPMP</th>\n",
       "      <th>MPIO</th>\n",
       "      <th>POBLACIÓN TOTAL 2005</th>\n",
       "      <th>POBLACIÓN CABECERA 2005</th>\n",
       "      <th>POBLACIÓN RESTO 2005</th>\n",
       "      <th>POBLACIÓN TOTAL 2017</th>\n",
       "      <th>POBLACIÓN CABECERA 2017</th>\n",
       "      <th>POBLACIÓN RESTO 2017</th>\n",
       "      <th>AREA EN KM2 CABECERA 2005</th>\n",
       "      <th>AREA EN KM2 CENTRO POBLADO 2005</th>\n",
       "      <th>AREA EN KM 2 RESTO 2005</th>\n",
       "      <th>AREA EN KM2 CABECERA 2017</th>\n",
       "      <th>AREA EN KM2 CENTRO POBLADO 2017</th>\n",
       "      <th>AREA EN KM 2 RESTO 2017</th>\n",
       "    </tr>\n",
       "  </thead>\n",
       "  <tbody>\n",
       "    <tr>\n",
       "      <th>0</th>\n",
       "      <td>5</td>\n",
       "      <td>Antioquia</td>\n",
       "      <td>5001</td>\n",
       "      <td>Medellín</td>\n",
       "      <td>2214494</td>\n",
       "      <td>2175681</td>\n",
       "      <td>38813</td>\n",
       "      <td>2508452</td>\n",
       "      <td>2479990</td>\n",
       "      <td>28462</td>\n",
       "      <td>112.599136</td>\n",
       "      <td>3.333152</td>\n",
       "      <td>256.106044</td>\n",
       "      <td>109.980043</td>\n",
       "      <td>14.609643</td>\n",
       "      <td>242.850543</td>\n",
       "    </tr>\n",
       "    <tr>\n",
       "      <th>1</th>\n",
       "      <td>5</td>\n",
       "      <td>Antioquia</td>\n",
       "      <td>5002</td>\n",
       "      <td>Abejorral</td>\n",
       "      <td>20249</td>\n",
       "      <td>6271</td>\n",
       "      <td>13978</td>\n",
       "      <td>19096</td>\n",
       "      <td>6765</td>\n",
       "      <td>12331</td>\n",
       "      <td>1.153995</td>\n",
       "      <td>0.144522</td>\n",
       "      <td>505.945056</td>\n",
       "      <td>1.236794</td>\n",
       "      <td>0.106953</td>\n",
       "      <td>505.790367</td>\n",
       "    </tr>\n",
       "    <tr>\n",
       "      <th>2</th>\n",
       "      <td>5</td>\n",
       "      <td>Antioquia</td>\n",
       "      <td>5004</td>\n",
       "      <td>Abriaquí</td>\n",
       "      <td>2690</td>\n",
       "      <td>858</td>\n",
       "      <td>1832</td>\n",
       "      <td>2019</td>\n",
       "      <td>724</td>\n",
       "      <td>1295</td>\n",
       "      <td>0.531890</td>\n",
       "      <td>0.000000</td>\n",
       "      <td>287.578156</td>\n",
       "      <td>0.156826</td>\n",
       "      <td>0.029510</td>\n",
       "      <td>296.769644</td>\n",
       "    </tr>\n",
       "    <tr>\n",
       "      <th>3</th>\n",
       "      <td>5</td>\n",
       "      <td>Antioquia</td>\n",
       "      <td>5021</td>\n",
       "      <td>Alejandría</td>\n",
       "      <td>3816</td>\n",
       "      <td>1896</td>\n",
       "      <td>1920</td>\n",
       "      <td>3393</td>\n",
       "      <td>1804</td>\n",
       "      <td>1589</td>\n",
       "      <td>0.371011</td>\n",
       "      <td>0.000000</td>\n",
       "      <td>126.738351</td>\n",
       "      <td>0.399738</td>\n",
       "      <td>0.000000</td>\n",
       "      <td>128.532415</td>\n",
       "    </tr>\n",
       "    <tr>\n",
       "      <th>4</th>\n",
       "      <td>5</td>\n",
       "      <td>Antioquia</td>\n",
       "      <td>5030</td>\n",
       "      <td>Amagá</td>\n",
       "      <td>27155</td>\n",
       "      <td>14070</td>\n",
       "      <td>13085</td>\n",
       "      <td>29980</td>\n",
       "      <td>17174</td>\n",
       "      <td>12806</td>\n",
       "      <td>2.801529</td>\n",
       "      <td>0.130832</td>\n",
       "      <td>80.214944</td>\n",
       "      <td>1.509397</td>\n",
       "      <td>1.828286</td>\n",
       "      <td>80.794794</td>\n",
       "    </tr>\n",
       "  </tbody>\n",
       "</table>\n",
       "</div>"
      ],
      "text/plain": [
       "   DP      DPNOM  DPMP        MPIO  POBLACIÓN TOTAL 2005  \\\n",
       "0   5  Antioquia  5001    Medellín               2214494   \n",
       "1   5  Antioquia  5002   Abejorral                 20249   \n",
       "2   5  Antioquia  5004    Abriaquí                  2690   \n",
       "3   5  Antioquia  5021  Alejandría                  3816   \n",
       "4   5  Antioquia  5030       Amagá                 27155   \n",
       "\n",
       "   POBLACIÓN CABECERA 2005  POBLACIÓN RESTO 2005  POBLACIÓN TOTAL 2017  \\\n",
       "0                  2175681                 38813               2508452   \n",
       "1                     6271                 13978                 19096   \n",
       "2                      858                  1832                  2019   \n",
       "3                     1896                  1920                  3393   \n",
       "4                    14070                 13085                 29980   \n",
       "\n",
       "   POBLACIÓN CABECERA 2017  POBLACIÓN RESTO 2017  AREA EN KM2 CABECERA 2005  \\\n",
       "0                  2479990                 28462                 112.599136   \n",
       "1                     6765                 12331                   1.153995   \n",
       "2                      724                  1295                   0.531890   \n",
       "3                     1804                  1589                   0.371011   \n",
       "4                    17174                 12806                   2.801529   \n",
       "\n",
       "   AREA EN KM2 CENTRO POBLADO 2005  AREA EN KM 2 RESTO 2005  \\\n",
       "0                         3.333152               256.106044   \n",
       "1                         0.144522               505.945056   \n",
       "2                         0.000000               287.578156   \n",
       "3                         0.000000               126.738351   \n",
       "4                         0.130832                80.214944   \n",
       "\n",
       "   AREA EN KM2 CABECERA 2017  AREA EN KM2 CENTRO POBLADO 2017  \\\n",
       "0                 109.980043                        14.609643   \n",
       "1                   1.236794                         0.106953   \n",
       "2                   0.156826                         0.029510   \n",
       "3                   0.399738                         0.000000   \n",
       "4                   1.509397                         1.828286   \n",
       "\n",
       "   AREA EN KM 2 RESTO 2017  \n",
       "0               242.850543  \n",
       "1               505.790367  \n",
       "2               296.769644  \n",
       "3               128.532415  \n",
       "4                80.794794  "
      ]
     },
     "execution_count": 3,
     "metadata": {},
     "output_type": "execute_result"
    }
   ],
   "source": [
    "df.head()"
   ]
  },
  {
   "cell_type": "code",
   "execution_count": 8,
   "metadata": {},
   "outputs": [
    {
     "data": {
      "text/html": [
       "<div>\n",
       "<style scoped>\n",
       "    .dataframe tbody tr th:only-of-type {\n",
       "        vertical-align: middle;\n",
       "    }\n",
       "\n",
       "    .dataframe tbody tr th {\n",
       "        vertical-align: top;\n",
       "    }\n",
       "\n",
       "    .dataframe thead th {\n",
       "        text-align: right;\n",
       "    }\n",
       "</style>\n",
       "<table border=\"1\" class=\"dataframe\">\n",
       "  <thead>\n",
       "    <tr style=\"text-align: right;\">\n",
       "      <th></th>\n",
       "      <th>DP</th>\n",
       "      <th>DPMP</th>\n",
       "      <th>POBLACIÓN TOTAL 2005</th>\n",
       "      <th>POBLACIÓN CABECERA 2005</th>\n",
       "      <th>POBLACIÓN RESTO 2005</th>\n",
       "      <th>POBLACIÓN TOTAL 2017</th>\n",
       "      <th>POBLACIÓN CABECERA 2017</th>\n",
       "      <th>POBLACIÓN RESTO 2017</th>\n",
       "      <th>AREA EN KM2 CABECERA 2005</th>\n",
       "      <th>AREA EN KM2 CENTRO POBLADO 2005</th>\n",
       "      <th>AREA EN KM 2 RESTO 2005</th>\n",
       "      <th>AREA EN KM2 CABECERA 2017</th>\n",
       "      <th>AREA EN KM2 CENTRO POBLADO 2017</th>\n",
       "      <th>AREA EN KM 2 RESTO 2017</th>\n",
       "    </tr>\n",
       "  </thead>\n",
       "  <tbody>\n",
       "    <tr>\n",
       "      <th>count</th>\n",
       "      <td>1122.000000</td>\n",
       "      <td>1122.000000</td>\n",
       "      <td>1.122000e+03</td>\n",
       "      <td>1.122000e+03</td>\n",
       "      <td>1122.000000</td>\n",
       "      <td>1.122000e+03</td>\n",
       "      <td>1.122000e+03</td>\n",
       "      <td>1122.000000</td>\n",
       "      <td>1122.000000</td>\n",
       "      <td>1122.000000</td>\n",
       "      <td>1122.000000</td>\n",
       "      <td>1122.000000</td>\n",
       "      <td>1122.000000</td>\n",
       "      <td>1122.000000</td>\n",
       "    </tr>\n",
       "    <tr>\n",
       "      <th>mean</th>\n",
       "      <td>38.282531</td>\n",
       "      <td>38716.410873</td>\n",
       "      <td>3.822513e+04</td>\n",
       "      <td>2.842184e+04</td>\n",
       "      <td>9803.291444</td>\n",
       "      <td>4.393192e+04</td>\n",
       "      <td>3.370415e+04</td>\n",
       "      <td>10227.770053</td>\n",
       "      <td>3.085113</td>\n",
       "      <td>0.456685</td>\n",
       "      <td>1013.052786</td>\n",
       "      <td>4.879983</td>\n",
       "      <td>0.915556</td>\n",
       "      <td>850.764482</td>\n",
       "    </tr>\n",
       "    <tr>\n",
       "      <th>std</th>\n",
       "      <td>26.588271</td>\n",
       "      <td>26574.905059</td>\n",
       "      <td>2.329032e+05</td>\n",
       "      <td>2.312218e+05</td>\n",
       "      <td>9926.745333</td>\n",
       "      <td>2.732377e+05</td>\n",
       "      <td>2.715673e+05</td>\n",
       "      <td>11762.363632</td>\n",
       "      <td>14.264436</td>\n",
       "      <td>1.105590</td>\n",
       "      <td>3211.782856</td>\n",
       "      <td>45.361030</td>\n",
       "      <td>1.756232</td>\n",
       "      <td>2937.666290</td>\n",
       "    </tr>\n",
       "    <tr>\n",
       "      <th>min</th>\n",
       "      <td>5.000000</td>\n",
       "      <td>5001.000000</td>\n",
       "      <td>0.000000e+00</td>\n",
       "      <td>0.000000e+00</td>\n",
       "      <td>0.000000</td>\n",
       "      <td>3.920000e+02</td>\n",
       "      <td>0.000000e+00</td>\n",
       "      <td>172.000000</td>\n",
       "      <td>0.000000</td>\n",
       "      <td>0.000000</td>\n",
       "      <td>0.000000</td>\n",
       "      <td>0.041805</td>\n",
       "      <td>0.000000</td>\n",
       "      <td>0.000000</td>\n",
       "    </tr>\n",
       "    <tr>\n",
       "      <th>25%</th>\n",
       "      <td>15.000000</td>\n",
       "      <td>15677.250000</td>\n",
       "      <td>6.817750e+03</td>\n",
       "      <td>1.693500e+03</td>\n",
       "      <td>4014.250000</td>\n",
       "      <td>6.697250e+03</td>\n",
       "      <td>1.911250e+03</td>\n",
       "      <td>3663.250000</td>\n",
       "      <td>0.306696</td>\n",
       "      <td>0.000000</td>\n",
       "      <td>127.820304</td>\n",
       "      <td>0.407813</td>\n",
       "      <td>0.050280</td>\n",
       "      <td>121.297972</td>\n",
       "    </tr>\n",
       "    <tr>\n",
       "      <th>50%</th>\n",
       "      <td>25.000000</td>\n",
       "      <td>25840.000000</td>\n",
       "      <td>1.251500e+04</td>\n",
       "      <td>4.158000e+03</td>\n",
       "      <td>7019.500000</td>\n",
       "      <td>1.357050e+04</td>\n",
       "      <td>5.013000e+03</td>\n",
       "      <td>6739.000000</td>\n",
       "      <td>0.697962</td>\n",
       "      <td>0.098596</td>\n",
       "      <td>280.058571</td>\n",
       "      <td>0.901225</td>\n",
       "      <td>0.310458</td>\n",
       "      <td>264.993219</td>\n",
       "    </tr>\n",
       "    <tr>\n",
       "      <th>75%</th>\n",
       "      <td>66.000000</td>\n",
       "      <td>66543.000000</td>\n",
       "      <td>2.384975e+04</td>\n",
       "      <td>1.079150e+04</td>\n",
       "      <td>12256.750000</td>\n",
       "      <td>2.685875e+04</td>\n",
       "      <td>1.319200e+04</td>\n",
       "      <td>12840.500000</td>\n",
       "      <td>1.805689</td>\n",
       "      <td>0.411744</td>\n",
       "      <td>706.791479</td>\n",
       "      <td>2.331975</td>\n",
       "      <td>0.965454</td>\n",
       "      <td>619.197173</td>\n",
       "    </tr>\n",
       "    <tr>\n",
       "      <th>max</th>\n",
       "      <td>99.000000</td>\n",
       "      <td>99773.000000</td>\n",
       "      <td>6.840116e+06</td>\n",
       "      <td>6.824507e+06</td>\n",
       "      <td>109982.000000</td>\n",
       "      <td>8.080734e+06</td>\n",
       "      <td>8.063991e+06</td>\n",
       "      <td>173143.000000</td>\n",
       "      <td>380.743770</td>\n",
       "      <td>14.012152</td>\n",
       "      <td>65560.804906</td>\n",
       "      <td>1432.794977</td>\n",
       "      <td>18.141420</td>\n",
       "      <td>65594.340099</td>\n",
       "    </tr>\n",
       "  </tbody>\n",
       "</table>\n",
       "</div>"
      ],
      "text/plain": [
       "                DP          DPMP  POBLACIÓN TOTAL 2005  \\\n",
       "count  1122.000000   1122.000000          1.122000e+03   \n",
       "mean     38.282531  38716.410873          3.822513e+04   \n",
       "std      26.588271  26574.905059          2.329032e+05   \n",
       "min       5.000000   5001.000000          0.000000e+00   \n",
       "25%      15.000000  15677.250000          6.817750e+03   \n",
       "50%      25.000000  25840.000000          1.251500e+04   \n",
       "75%      66.000000  66543.000000          2.384975e+04   \n",
       "max      99.000000  99773.000000          6.840116e+06   \n",
       "\n",
       "       POBLACIÓN CABECERA 2005  POBLACIÓN RESTO 2005  POBLACIÓN TOTAL 2017  \\\n",
       "count             1.122000e+03           1122.000000          1.122000e+03   \n",
       "mean              2.842184e+04           9803.291444          4.393192e+04   \n",
       "std               2.312218e+05           9926.745333          2.732377e+05   \n",
       "min               0.000000e+00              0.000000          3.920000e+02   \n",
       "25%               1.693500e+03           4014.250000          6.697250e+03   \n",
       "50%               4.158000e+03           7019.500000          1.357050e+04   \n",
       "75%               1.079150e+04          12256.750000          2.685875e+04   \n",
       "max               6.824507e+06         109982.000000          8.080734e+06   \n",
       "\n",
       "       POBLACIÓN CABECERA 2017  POBLACIÓN RESTO 2017  \\\n",
       "count             1.122000e+03           1122.000000   \n",
       "mean              3.370415e+04          10227.770053   \n",
       "std               2.715673e+05          11762.363632   \n",
       "min               0.000000e+00            172.000000   \n",
       "25%               1.911250e+03           3663.250000   \n",
       "50%               5.013000e+03           6739.000000   \n",
       "75%               1.319200e+04          12840.500000   \n",
       "max               8.063991e+06         173143.000000   \n",
       "\n",
       "       AREA EN KM2 CABECERA 2005  AREA EN KM2 CENTRO POBLADO 2005  \\\n",
       "count                1122.000000                      1122.000000   \n",
       "mean                    3.085113                         0.456685   \n",
       "std                    14.264436                         1.105590   \n",
       "min                     0.000000                         0.000000   \n",
       "25%                     0.306696                         0.000000   \n",
       "50%                     0.697962                         0.098596   \n",
       "75%                     1.805689                         0.411744   \n",
       "max                   380.743770                        14.012152   \n",
       "\n",
       "       AREA EN KM 2 RESTO 2005  AREA EN KM2 CABECERA 2017  \\\n",
       "count              1122.000000                1122.000000   \n",
       "mean               1013.052786                   4.879983   \n",
       "std                3211.782856                  45.361030   \n",
       "min                   0.000000                   0.041805   \n",
       "25%                 127.820304                   0.407813   \n",
       "50%                 280.058571                   0.901225   \n",
       "75%                 706.791479                   2.331975   \n",
       "max               65560.804906                1432.794977   \n",
       "\n",
       "       AREA EN KM2 CENTRO POBLADO 2017  AREA EN KM 2 RESTO 2017  \n",
       "count                      1122.000000              1122.000000  \n",
       "mean                          0.915556               850.764482  \n",
       "std                           1.756232              2937.666290  \n",
       "min                           0.000000                 0.000000  \n",
       "25%                           0.050280               121.297972  \n",
       "50%                           0.310458               264.993219  \n",
       "75%                           0.965454               619.197173  \n",
       "max                          18.141420             65594.340099  "
      ]
     },
     "execution_count": 8,
     "metadata": {},
     "output_type": "execute_result"
    }
   ],
   "source": [
    "df.describe()"
   ]
  },
  {
   "cell_type": "markdown",
   "metadata": {},
   "source": [
    "### Make clustering with k means"
   ]
  },
  {
   "cell_type": "markdown",
   "metadata": {},
   "source": [
    "Initially we will test using three clusters using different initial centroids so we can see if a three cluster system is actually a valid classification."
   ]
  },
  {
   "cell_type": "code",
   "execution_count": 4,
   "metadata": {},
   "outputs": [],
   "source": [
    "from sklearn.cluster import KMeans"
   ]
  },
  {
   "cell_type": "code",
   "execution_count": 9,
   "metadata": {},
   "outputs": [
    {
     "data": {
      "text/plain": [
       "Index(['DP', 'DPNOM', 'DPMP', 'MPIO', 'POBLACIÓN TOTAL 2005',\n",
       "       'POBLACIÓN CABECERA 2005', 'POBLACIÓN RESTO 2005',\n",
       "       'POBLACIÓN TOTAL 2017', 'POBLACIÓN CABECERA 2017',\n",
       "       'POBLACIÓN RESTO 2017', 'AREA EN KM2 CABECERA 2005',\n",
       "       'AREA EN KM2 CENTRO POBLADO 2005', 'AREA EN KM 2 RESTO 2005',\n",
       "       'AREA EN KM2 CABECERA 2017', 'AREA EN KM2 CENTRO POBLADO 2017',\n",
       "       'AREA EN KM 2 RESTO 2017'],\n",
       "      dtype='object')"
      ]
     },
     "execution_count": 9,
     "metadata": {},
     "output_type": "execute_result"
    }
   ],
   "source": [
    "df.columns"
   ]
  },
  {
   "cell_type": "code",
   "execution_count": 19,
   "metadata": {},
   "outputs": [],
   "source": [
    "df_2=df.drop(['DP','DPNOM','DPMP','MPIO'],1)"
   ]
  },
  {
   "cell_type": "code",
   "execution_count": 21,
   "metadata": {},
   "outputs": [],
   "source": [
    "Data_To_Clasify=df_2.values"
   ]
  },
  {
   "cell_type": "code",
   "execution_count": 22,
   "metadata": {},
   "outputs": [
    {
     "data": {
      "text/plain": [
       "(1122, 12)"
      ]
     },
     "execution_count": 22,
     "metadata": {},
     "output_type": "execute_result"
    }
   ],
   "source": [
    "Data_To_Clasify.shape"
   ]
  },
  {
   "cell_type": "code",
   "execution_count": 30,
   "metadata": {},
   "outputs": [],
   "source": [
    "kmeans = KMeans(n_clusters=2, random_state=0,).fit(Data_To_Clasify)"
   ]
  },
  {
   "cell_type": "code",
   "execution_count": 35,
   "metadata": {},
   "outputs": [
    {
     "data": {
      "text/plain": [
       "(1122,)"
      ]
     },
     "execution_count": 35,
     "metadata": {},
     "output_type": "execute_result"
    }
   ],
   "source": [
    "kmeans.labels_.shape"
   ]
  },
  {
   "cell_type": "code",
   "execution_count": 37,
   "metadata": {},
   "outputs": [
    {
     "data": {
      "text/plain": [
       "1"
      ]
     },
     "execution_count": 37,
     "metadata": {},
     "output_type": "execute_result"
    }
   ],
   "source": [
    "np.amax(kmeans.labels_)"
   ]
  },
  {
   "cell_type": "markdown",
   "metadata": {},
   "source": [
    "Visualize the data using dimensionality reduction by PCA"
   ]
  },
  {
   "cell_type": "code",
   "execution_count": 38,
   "metadata": {},
   "outputs": [],
   "source": [
    "import matplotlib.pyplot as plt\n",
    "from sklearn import metrics\n",
    "from sklearn.decomposition import PCA\n",
    "from sklearn.preprocessing import scale"
   ]
  },
  {
   "cell_type": "code",
   "execution_count": 39,
   "metadata": {},
   "outputs": [],
   "source": [
    "reduced_data = PCA(n_components=2).fit_transform(Data_To_Clasify)"
   ]
  },
  {
   "cell_type": "code",
   "execution_count": 41,
   "metadata": {},
   "outputs": [
    {
     "data": {
      "text/plain": [
       "(1122, 2)"
      ]
     },
     "execution_count": 41,
     "metadata": {},
     "output_type": "execute_result"
    }
   ],
   "source": [
    "reduced_data.shape"
   ]
  },
  {
   "cell_type": "code",
   "execution_count": 44,
   "metadata": {},
   "outputs": [
    {
     "data": {
      "text/plain": [
       "<matplotlib.collections.PathCollection at 0x7fb352b3f780>"
      ]
     },
     "execution_count": 44,
     "metadata": {},
     "output_type": "execute_result"
    },
    {
     "data": {
      "image/png": "[encoded data removed]",
      "text/plain": [
       "<Figure size 432x288 with 1 Axes>"
      ]
     },
     "metadata": {
      "needs_background": "light"
     },
     "output_type": "display_data"
    }
   ],
   "source": [
    "plt.scatter(reduced_data[:, 0], reduced_data[:, 1], c=kmeans.labels_)"
   ]
  },
  {
   "cell_type": "code",
   "execution_count": null,
   "metadata": {},
   "outputs": [],
   "source": []
  }
 ],
 "metadata": {
  "kernelspec": {
   "display_name": "TensorFlow_3.6",
   "language": "python",
   "name": "tensorflow_3.6"
  },
  "language_info": {
   "codemirror_mode": {
    "name": "ipython",
    "version": 3
   },
   "file_extension": ".py",
   "mimetype": "text/x-python",
   "name": "python",
   "nbconvert_exporter": "python",
   "pygments_lexer": "ipython3",
   "version": "3.6.6"
  }
 },
 "nbformat": 4,
 "nbformat_minor": 2
}
